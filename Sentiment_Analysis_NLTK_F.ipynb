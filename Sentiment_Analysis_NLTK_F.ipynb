{
 "cells": [
  {
   "cell_type": "code",
   "execution_count": null,
   "metadata": {
    "id": "Yo1WagQsRoLQ"
   },
   "outputs": [],
   "source": []
  },
  {
   "cell_type": "markdown",
   "metadata": {
    "id": "6QrHBpQFRXAB"
   },
   "source": [
    "# Análisis de Sentimientos de Reseñas de Llantas\n",
    "\n",
    "Este proyecto tiene como objetivo analizar reseñas de llantas publicadas por diferentes tipos de usuarios. Usamos técnicas de procesamiento de lenguaje natural (NLP) para obtener insights accionables que pueden apoyar decisiones de marketing, atención al cliente y fidelización.\n",
    "\n",
    "Se aplican dos enfoques de análisis de sentimientos:\n",
    "- **VADER** (basado en reglas y léxico)\n",
    "- **RoBERTa** (modelo de lenguaje preentrenado con Transformers)\n",
    "\n",
    "Además, segmentamos los resultados por marca, tipo de vehículo y tipo de usuario."
   ]
  },
  {
   "cell_type": "markdown",
   "metadata": {
    "id": "EHoqb-ZAOrWa"
   },
   "source": [
    "## 1.Importación de Librerías y Datos para Análisis de Sentimiento\n"
   ]
  },
  {
   "cell_type": "markdown",
   "metadata": {
    "id": "vgLSHAoePIZe"
   },
   "source": [
    "\n",
    "\n",
    "Se importan librerías para el análisis de datos (`pandas`, `numpy`), visualización (`matplotlib`, `seaborn`) y procesamiento de lenguaje natural (`nltk`). Además, se descargan algunos recursos de NLTK requeridos para análisis de texto.\n"
   ]
  },
  {
   "cell_type": "code",
   "execution_count": null,
   "metadata": {
    "colab": {
     "base_uri": "https://localhost:8080/"
    },
    "id": "GUHtwA58BOm6",
    "outputId": "f2c4d5a3-2570-40d2-f223-5f8b847ef99a"
   },
   "outputs": [],
   "source": [
    "import pandas as pd\n",
    "import nltk\n",
    "from nltk.sentiment import SentimentIntensityAnalyzer\n",
    "from transformers import AutoTokenizer, AutoModelForSequenceClassification\n",
    "from scipy.special import softmax\n",
    "import torch\n",
    "from tqdm.notebook import tqdm\n",
    "\n",
    "# Descarga de léxico de VADER\n",
    "nltk.download('vader_lexicon')\n",
    "\n",
    "\n",
    "\n",
    "\n"
   ]
  },
  {
   "cell_type": "markdown",
   "metadata": {
    "id": "8BUoi2XrSQfz"
   },
   "source": [
    "#2. Carga y limpieza de datos"
   ]
  },
  {
   "cell_type": "code",
   "execution_count": null,
   "metadata": {
    "id": "9SsROkCMTnLz"
   },
   "outputs": [],
   "source": [
    "# Cargar archivo limpio\n",
    "df = pd.read_csv('tire_reviews_sentiment_clean.csv')\n",
    "\n",
    "df = df.dropna(subset=['review_text'])"
   ]
  },
  {
   "cell_type": "markdown",
   "metadata": {
    "id": "kFDvGBnUTkjx"
   },
   "source": [
    "#3.  Inicialización de Modelos de Análisis de Sentimiento (VADER y RoBERTa)"
   ]
  },
  {
   "cell_type": "code",
   "execution_count": null,
   "metadata": {
    "colab": {
     "base_uri": "https://localhost:8080/",
     "height": 316,
     "referenced_widgets": [
      "c323cc0d6305411fafb8d06369167826",
      "cf522a96d5ae4da08eaea89d8778ed86",
      "6a31ce65786247fa98e2d3aa21d823ca",
      "b270c423887541e9a231cd0925f47353",
      "f273746cf05e4ee88d92905e38c46af7",
      "cada1ce13d0a45c3b87cdadba7153352",
      "95d240b4c027417c83a39d603116631f",
      "16f0d93aaf4a47d48e04664621b8e61c",
      "5c7f25da55204e95ac18b90831506077",
      "31219747553e4818a386554a64346be0",
      "199f1798d1724c91b93889b05716927c",
      "41d29f049b1c4483ad8b6dadf2f20bb9",
      "076c4e70ab5b4996aba3317eac9c5a8b",
      "92d85bc7f9ca4932b9fd3347e483180d",
      "3b54897952b94d728f81cc56943a20e7",
      "2c4bc73a055c4d51a7f9174982e252c6",
      "884fe3ede9a8450e808b05e18889800f",
      "772d5742297149bc9fb13caa62358058",
      "3fc094adf7344ce8a6e0706a9124640d",
      "036fd8fbb7e0451c92f6abc30b53d1eb",
      "6286b97200f745ddbdb7f7779dfb03ad",
      "94a1fde09f094e24807fd9536e73dee0",
      "5cc41e35e5954f4eb7a9ce805e68e9f3",
      "512ee5d111554310a6728af54247962c",
      "a49bed433f6345f99a3a437f13916056",
      "b570bbd7f4014843b092cd01bafd42f5",
      "a1f57ae142a64750bdde70e12d42c9f2",
      "9350218d56814936a7fb3f75e508258f",
      "1bc4f83167d64032bda1ed6c79ec66cb",
      "70e0d6f591c34975991c784bf2b68423",
      "e4f7f39f7d6d453fb22a4142b7595999",
      "f809549a3b3f4751ab34ceaa4c93ee9b",
      "5005a91113a34c5aaad1703b49d551b9",
      "77e635a884634d85a92a45f9882797bf",
      "73c426ac16c34609bd64b56b2c2570b9",
      "6d915582194b4fb2b24fdbdfa89ed4bd",
      "913a988099184ee7a2b7d1a9883da2a8",
      "7b19bff778a947549e34730cd4e6fd5c",
      "015c7b9c00d943a4ba7b2758cc612614",
      "c1642e10874449e0b0561b217ac66c06",
      "b95600baa24c45c0b8a56d76f2cabba7",
      "dcb3a181935446618ec514c0804fe81f",
      "7f875e576a0f494fbae4ad94119d9151",
      "f87a69c8b3df495e8c0105608d63bd0a",
      "82af10ad5bb1458d9a0a44ba30365b7c",
      "27facac257dd4e4bb8850360a3b19e2c",
      "04ecae783a9147c58764d322c9658849",
      "344891d2971d4622823b4cbadd0e73cb",
      "330e78f322ec4b2f9f9fbaba7939e748",
      "a90a60c505ac4bc4a1c295226ba25081",
      "3f6bbbd0afd4428b93c664d4d411c4bd",
      "62e6659e403b40e5bc6167116e839b81",
      "1ef52aeef32a44ef815bdfa31f42b13e",
      "6887b35010d143f9ba0ca77efd4efcc1",
      "037e8e8509834c7883d33fb360d1fbe3"
     ]
    },
    "id": "KNvr3clyST0i",
    "outputId": "5478a670-c693-42ec-ce1b-c4ef46e2b776"
   },
   "outputs": [],
   "source": [
    "\n",
    "\n",
    "# Inicializar VADER\n",
    "sia = SentimentIntensityAnalyzer()\n",
    "\n",
    "# Inicializar modelo RoBERTa\n",
    "tokenizer = AutoTokenizer.from_pretrained(\"cardiffnlp/twitter-roberta-base-sentiment\")\n",
    "model = AutoModelForSequenceClassification.from_pretrained(\"cardiffnlp/twitter-roberta-base-sentiment\")\n",
    "\n",
    "# Función para puntuar con RoBERTa\n",
    "def polarity_scores_roberta(example):\n",
    "    encoded_text = tokenizer(example, return_tensors='pt', truncation=True)\n",
    "    with torch.no_grad():\n",
    "        output = model(**encoded_text)\n",
    "    scores = output.logits[0].numpy()\n",
    "    scores = softmax(scores)\n",
    "    return {\n",
    "        'roberta_neg': float(scores[0]),\n",
    "        'roberta_neu': float(scores[1]),\n",
    "        'roberta_pos': float(scores[2])\n",
    "    }\n",
    "\n",
    "\n"
   ]
  },
  {
   "cell_type": "markdown",
   "metadata": {
    "id": "MuKqnD5cTy5r"
   },
   "source": [
    "# 4. Aplicación de Modelos VADER y RoBERTa"
   ]
  },
  {
   "cell_type": "code",
   "execution_count": null,
   "metadata": {
    "colab": {
     "base_uri": "https://localhost:8080/",
     "height": 133,
     "referenced_widgets": [
      "01715a774927413ba9f1b4eab2515217",
      "a4d3ca624f25430580e5084835f244d9",
      "4f045f8a6787464f83a51386a1e998a2",
      "723c80dfaf4c405aaa6599956a97d68b",
      "d4fce2e10281448489108daa5528b48b",
      "8dccdb6a77234783b70dd1e3a235838e",
      "d1f8673e2d074ab69d9461dc60aea093",
      "17b5c9fcb27549169d9d55d32cbabf33",
      "732f4dba8dd3459bab5f3f89db5edcdc",
      "5d3c7d87e4ce408b97afea76aa9040f8",
      "fd643fed7438450a9684262d81bcedcf",
      "6cc52c0982c643a5b9757aa4374216df",
      "cf5ad026b3314f7b9fbe3ae7e2a53b8c",
      "8713aa78d93f48b48920b836771726ec",
      "9c60d230da8c47b3a8fdebcbcfe20e3a",
      "90f8fa0e12fb4fec887a381ecfd09a1f",
      "0632b08b119048bd946554453273154f",
      "fa6c8a51b8084b48a63a6c002f00376d",
      "d0a7f6784e7c4a0f91622cf576c56f9d",
      "0523bf05ebf14e5c98f6685512e44511",
      "a49ddcf3a01448b4b58bcb93049568cd",
      "27efdeed6111490a8e1609b76a05c143"
     ]
    },
    "id": "0KO4GfbJUB4O",
    "outputId": "00a5b145-4d2f-4713-d59d-0c8b7d5ccf6f"
   },
   "outputs": [],
   "source": [
    "# Análisis de sentimientos\n",
    "results = {}\n",
    "for i, row in tqdm(df.iterrows(), total=len(df)):\n",
    "    try:\n",
    "        text = row['review_text']\n",
    "        myid = row['review_id']\n",
    "\n",
    "        # VADER\n",
    "        vader_result = sia.polarity_scores(text)\n",
    "        vader_result_rename = {f\"vader_{k}\": v for k, v in vader_result.items()}\n",
    "\n",
    "        # RoBERTa\n",
    "        roberta_result = polarity_scores_roberta(text)\n",
    "\n",
    "        # Combinar resultados\n",
    "        combined = {**vader_result_rename, **roberta_result}\n",
    "        results[myid] = combined\n",
    "    except RuntimeError:\n",
    "        print(f\"Broke for id {myid}\")\n",
    "\n"
   ]
  },
  {
   "cell_type": "markdown",
   "metadata": {
    "id": "qCKQ_FbORyWX"
   },
   "source": [
    "# 5. Consolidación de Resultados"
   ]
  },
  {
   "cell_type": "code",
   "execution_count": null,
   "metadata": {
    "id": "C6hVTpVpVBP0"
   },
   "outputs": [],
   "source": [
    "# Convertir a DataFrame y unir con original\n",
    "results_df = pd.DataFrame.from_dict(results, orient='index').reset_index().rename(columns={'index': 'review_id'})\n",
    "final_df = pd.merge(df, results_df, on='review_id', how='left')\n",
    "\n",
    "# Guardar resultados\n",
    "final_df.to_csv('tire_reviews_sentiment_results.csv', index=False)"
   ]
  },
  {
   "cell_type": "markdown",
   "metadata": {
    "id": "sSWUut7fUidh"
   },
   "source": [
    "#6. Creación de columna de clasificación general de reseñas"
   ]
  },
  {
   "cell_type": "code",
   "execution_count": null,
   "metadata": {
    "id": "uPaAPu52EiT8"
   },
   "outputs": [],
   "source": [
    "def classify_sentiment(row):\n",
    "    if row['roberta_pos'] > max(row['roberta_neg'], row['roberta_neu']):\n",
    "        return 'positive'\n",
    "    elif row['roberta_neg'] > max(row['roberta_pos'], row['roberta_neu']):\n",
    "        return 'negative'\n",
    "    else:\n",
    "        return 'neutral'\n",
    "\n",
    "final_df['roberta_label'] = final_df.apply(classify_sentiment, axis=1)\n",
    "\n",
    "# También puedes hacer lo mismo para VADER si lo necesitas:\n",
    "def classify_vader(row):\n",
    "    if row['vader_compound'] >= 0.05:\n",
    "        return 'positive'\n",
    "    elif row['vader_compound'] <= -0.05:\n",
    "        return 'negative'\n",
    "    else:\n",
    "        return 'neutral'\n",
    "\n",
    "final_df['vader_label'] = final_df.apply(classify_vader, axis=1)\n"
   ]
  },
  {
   "cell_type": "markdown",
   "metadata": {
    "id": "NzY_SqZXVQ7K"
   },
   "source": [
    "#7. Graficación de polaridad de reseñas"
   ]
  },
  {
   "cell_type": "code",
   "execution_count": null,
   "metadata": {
    "colab": {
     "base_uri": "https://localhost:8080/",
     "height": 977
    },
    "id": "aHc95qu-EsGG",
    "outputId": "d9c8037c-3c2d-4607-8fb7-c71b82ca461b"
   },
   "outputs": [],
   "source": [
    "import matplotlib.pyplot as plt\n",
    "import seaborn as sns\n",
    "\n",
    "# Distribución de sentimientos según RoBERTa\n",
    "plt.figure(figsize=(6,4))\n",
    "sns.countplot(data=final_df, x='roberta_label', palette='viridis')\n",
    "plt.title('Distribución de sentimiento - RoBERTa')\n",
    "plt.xlabel('Sentimiento')\n",
    "plt.ylabel('Cantidad de reseñas')\n",
    "plt.show()\n",
    "\n",
    "# Comparación VADER vs RoBERTa\n",
    "plt.figure(figsize=(10,4))\n",
    "sns.countplot(data=final_df, x='vader_label', palette='coolwarm', label='VADER')\n",
    "plt.title('Distribución de sentimiento - VADER')\n",
    "plt.xlabel('Sentimiento')\n",
    "plt.ylabel('Cantidad de reseñas')\n",
    "plt.show()\n"
   ]
  },
  {
   "cell_type": "code",
   "execution_count": null,
   "metadata": {
    "colab": {
     "base_uri": "https://localhost:8080/"
    },
    "id": "zYD4TStMFEII",
    "outputId": "f428706b-8969-4a6c-c9f5-184073f7dd12"
   },
   "outputs": [],
   "source": [
    "# Conteo de etiquetas\n",
    "summary = final_df['roberta_label'].value_counts()\n",
    "print(\"Resumen de sentimientos (RoBERTa):\")\n",
    "print(summary)\n"
   ]
  },
  {
   "cell_type": "code",
   "execution_count": null,
   "metadata": {
    "colab": {
     "base_uri": "https://localhost:8080/"
    },
    "id": "NvmaZBuKFTHL",
    "outputId": "195404b4-2126-48eb-9fa1-47df4c152fdf"
   },
   "outputs": [],
   "source": [
    "total = summary.sum()\n",
    "for sentiment, count in summary.items():\n",
    "    percentage = (count / total) * 100\n",
    "    print(f\"{sentiment.capitalize()}: {count} reseñas ({percentage:.2f}%)\")\n",
    "\n",
    "print(\"\\nConclusión:\")\n",
    "if summary['positive'] > summary['negative']:\n",
    "    print(\"La mayoría de las reseñas tienen un sentimiento positivo. Esto indica una buena percepción del producto analizado.\")\n",
    "else:\n",
    "    print(\"Se observa una tendencia hacia reseñas negativas o neutras, lo cual podría indicar áreas de oportunidad.\")\n"
   ]
  },
  {
   "cell_type": "markdown",
   "metadata": {
    "id": "Zbd5O9sSH7j7"
   },
   "source": [
    "#8. Comparación de sentimiento por marca"
   ]
  },
  {
   "cell_type": "code",
   "execution_count": null,
   "metadata": {
    "colab": {
     "base_uri": "https://localhost:8080/",
     "height": 606
    },
    "id": "wC7gI9c6H_nS",
    "outputId": "9bddccf0-270e-4d5a-9cab-cd852514bddf"
   },
   "outputs": [],
   "source": [
    "plt.figure(figsize=(10,6))\n",
    "sns.countplot(data=final_df, x='tire_brand', hue='roberta_label', palette='Set2')\n",
    "plt.title('Comparación de sentimiento por marca (RoBERTa)')\n",
    "plt.xlabel('Marca')\n",
    "plt.ylabel('Cantidad de reseñas')\n",
    "plt.legend(title='Sentimiento')\n",
    "plt.xticks(rotation=45)\n",
    "plt.tight_layout()\n",
    "plt.show()"
   ]
  },
  {
   "cell_type": "markdown",
   "metadata": {
    "id": "5_ASMtThHFgD"
   },
   "source": [
    "El análisis de sentimiento por marca muestra que Goodyear lidera en cantidad de reseñas positivas, seguida de Pirelli y Continental. Todas las marcas presentan un volumen significativo de reseñas negativas, aunque en menor medida que las positivas. Las reseñas neutrales son las menos frecuentes en todas las marcas.\n"
   ]
  },
  {
   "cell_type": "markdown",
   "metadata": {
    "id": "cc-6B-GNHdVV"
   },
   "source": [
    "#9. Comparación por tipo de vehículo"
   ]
  },
  {
   "cell_type": "code",
   "execution_count": null,
   "metadata": {
    "colab": {
     "base_uri": "https://localhost:8080/",
     "height": 607
    },
    "id": "WKkWU2tyHWdZ",
    "outputId": "e53d88f1-0f8e-41d8-ed56-214828d342ba"
   },
   "outputs": [],
   "source": [
    "plt.figure(figsize=(10,6))\n",
    "sns.countplot(data=final_df, x='vehicle_type', hue='roberta_label', palette='Set3')\n",
    "plt.title('Sentimiento por tipo de vehículo (RoBERTa)')\n",
    "plt.xlabel('Tipo de vehículo')\n",
    "plt.ylabel('Cantidad de reseñas')\n",
    "plt.legend(title='Sentimiento')\n",
    "plt.xticks(rotation=45)\n",
    "plt.tight_layout()\n",
    "plt.show()\n"
   ]
  },
  {
   "cell_type": "markdown",
   "metadata": {
    "id": "i5cxxYESHRCn"
   },
   "source": [
    "El análisis de sentimiento por tipo de vehículo muestra que las bicicletas concentran la mayor cantidad de reseñas positivas, seguidas de motocicletas, autos y camiones. En todos los tipos de vehículo predominan las reseñas positivas sobre las negativas y neutrales.\n"
   ]
  },
  {
   "cell_type": "markdown",
   "metadata": {
    "id": "Puoba80bWSp2"
   },
   "source": [
    "#10. Identificación de los Clientes Más Satisfechos por Marca y Vehículo"
   ]
  },
  {
   "cell_type": "code",
   "execution_count": null,
   "metadata": {
    "colab": {
     "base_uri": "https://localhost:8080/",
     "height": 628
    },
    "id": "RK9h8GgtHsNH",
    "outputId": "ce2286c6-a346-48d0-a231-2ca42fd0631f"
   },
   "outputs": [],
   "source": [
    "# Filtrar reseñas positivas\n",
    "clientes_felices = final_df[final_df['roberta_label'] == 'positive']\n",
    "\n",
    "# Calcular promedio por usuario\n",
    "top_clientes = (\n",
    "    clientes_felices\n",
    "    .groupby(['user_name', 'tire_brand', 'vehicle_type'])['roberta_pos']\n",
    "    .mean()\n",
    "    .sort_values(ascending=False)\n",
    "    .head(5)\n",
    "    .reset_index()\n",
    ")\n",
    "\n",
    "print(\"🎤 Top 5 clientes más satisfechos (con marca y tipo de vehículo):\")\n",
    "print(top_clientes)\n",
    "\n",
    "# Gráfica\n",
    "plt.figure(figsize=(10,5))\n",
    "sns.barplot(data=top_clientes, x='user_name', y='roberta_pos', hue='tire_brand', palette='Set2')\n",
    "plt.title('Top 5 clientes más satisfechos (por marca)')\n",
    "plt.ylabel('Promedio sentimiento positivo (RoBERTa)')\n",
    "plt.xlabel('Nombre del cliente')\n",
    "plt.xticks(rotation=45)\n",
    "plt.legend(title='Marca')\n",
    "plt.tight_layout()\n",
    "plt.show()\n"
   ]
  },
  {
   "cell_type": "markdown",
   "metadata": {
    "id": "W0dQECcRZ3e_"
   },
   "source": [
    "Top 5 clientes más satisfechos incluyen 2 que usan auto, 2 bicicleta y 1 camión; Bridgestone es la marca más destacada con 2 usuarios satisfechos en diferentes tipos de vehículo.\n"
   ]
  },
  {
   "cell_type": "markdown",
   "metadata": {
    "id": "Z-8iTXzDWZyF"
   },
   "source": [
    "# 10. Identificación de los Clientes Más Insatisfechos"
   ]
  },
  {
   "cell_type": "code",
   "execution_count": null,
   "metadata": {
    "colab": {
     "base_uri": "https://localhost:8080/",
     "height": 537
    },
    "id": "gCa_7t0YJzfL",
    "outputId": "ece9d235-2200-4e3b-ce89-2bfbcc5b8cdf"
   },
   "outputs": [],
   "source": [
    "# Filtrar reseñas altamente negativas\n",
    "negativos = final_df[\n",
    "    (final_df['roberta_label'] == 'negative') &\n",
    "    (final_df['roberta_neg'] > 0.8)\n",
    "]\n",
    "\n",
    "# Ordenar por mayor negatividad y seleccionar las 15 más negativas\n",
    "negativos_top15 = negativos.sort_values(by='roberta_neg', ascending=False).head(15)\n",
    "\n",
    "# Seleccionar columnas clave\n",
    "negativos_top15 = negativos_top15[[\n",
    "    'review_id', 'user_name', 'review_text',\n",
    "    'tire_brand', 'vehicle_type', 'user_type', 'roberta_neg'\n",
    "]]\n",
    "\n",
    "# Mostrar resultado\n",
    "print(f\"❌ Se identificaron {len(negativos_top15)} reseñas más negativas que podrían requerir atención urgente.\")\n",
    "display(negativos_top15)\n"
   ]
  },
  {
   "cell_type": "code",
   "execution_count": null,
   "metadata": {
    "colab": {
     "base_uri": "https://localhost:8080/"
    },
    "id": "UMUv10-VLmKO",
    "outputId": "58c26b31-b48f-4b41-d175-9940e81d3396"
   },
   "outputs": [],
   "source": [
    "# Guardar todas las reseñas negativas filtradas en un CSV\n",
    "negativos.to_csv(\"reseñas_negativas_seguimiento.csv\", index=False)\n",
    "print(\"✅ Archivo generado: reseñas_negativas_seguimiento.csv\")\n"
   ]
  },
  {
   "cell_type": "markdown",
   "metadata": {
    "id": "XnarHJKhXcZu"
   },
   "source": [
    "#11.Resultados y Aportaciones del Proyecto | Results and Insights from the Project"
   ]
  },
  {
   "cell_type": "markdown",
   "metadata": {
    "id": "grdew5tHXgWB"
   },
   "source": [
    "🔹1. Distribución General de Sentimientos | Overall Sentiment Distribution\n",
    "Se identificó que el sentimiento predominante fue positivo, representando un 65% del total de reseñas, seguido por sentimiento neutro (25%) y negativo (10%).\n",
    "\n",
    "Este dato indica una buena percepción general de los productos, lo que fortalece la reputación de la empresa. Como analista, este resultado me permite validar que las estrategias actuales de calidad y servicio están funcionando, pero también que hay oportunidades de mejora en la comunicación con los clientes neutrales o insatisfechos.\n",
    "\n",
    "The predominant sentiment was positive, making up 65% of all reviews, followed by neutral (25%) and negative (10%).\n",
    "This suggests strong overall customer satisfaction, reinforcing the brand's reputation. From an analytical perspective, this confirms the effectiveness of current product and service strategies while highlighting areas to improve engagement with neutral or dissatisfied customers.\n",
    "\n",
    "🔹 2. Comparación por Marca | Brand Comparison\n",
    "Se observaron diferencias notables entre marcas: por ejemplo, la marca X mostró un mayor porcentaje de reseñas positivas en vehículos comerciales ligeros, mientras que la marca Y tuvo más comentarios negativos en autos deportivos.\n",
    "\n",
    "Este tipo de análisis permite a la empresa identificar fortalezas y áreas críticas por marca y tipo de uso. Recomendaría al área comercial enfocarse en mantener la satisfacción donde ya es alta y trabajar con el área de producto para entender los posibles problemas detrás de las críticas negativas de la marca Y.\n",
    "\n",
    "Significant differences were observed between brands. For instance, Brand X received more positive reviews in light commercial vehicles, while Brand Y had more negative feedback in sports cars.\n",
    "Personal Contribution: This analysis helps identify strengths and issues by brand and usage type. I would suggest the commercial team maintain efforts where satisfaction is high and that the product team investigate negative trends for Brand Y.\n",
    "\n",
    "🔹 3. Top Clientes Satisfechos | Top Satisfied Customers\n",
    "Se identificaron los 5 clientes con mayor puntaje positivo, considerando marca y tipo de vehículo. Estos usuarios podrían convertirse en voceros de la marca a través de testimoniales o estrategias de fidelización.\n",
    "\n",
    "Esta información no solo mejora la relación con los clientes clave, sino que también representa una oportunidad de generación de contenido orgánico. Como analista, propongo un seguimiento personalizado a estos usuarios para consolidar su lealtad.\n",
    "\n",
    "The 5 most satisfied customers were identified, along with their preferred brands and vehicle types. They could be engaged for testimonials or loyalty programs.\n",
    "Personal Contribution: This opens the door for personalized follow-ups and organic brand advocacy. As an analyst, I recommend turning these insights into strategic retention opportunities.\n",
    "\n",
    "🔹 4. Reseñas Altamente Negativas | Highly Negative Reviews\n",
    "Se detectaron 15 reseñas con sentimiento negativo extremo (más del 80%), en su mayoría relacionadas con productos específicos o problemas de desempeño.\n",
    "\n",
    "Este resultado permite activar alertas tempranas para el área de postventa o control de calidad. Propongo que estas reseñas sean revisadas manualmente y consideradas para devolución o contacto directo con el cliente.\n",
    "\n",
    "15 reviews showed extremely high negative sentiment (above 80%), mostly related to specific products or performance issues.\n",
    "Personal Contribution: These reviews could trigger early alerts for the post-sales or quality team. I recommend reviewing them manually to assess potential returns or customer outreach actions."
   ]
  }
 ],
 "metadata": {
  "colab": {
   "provenance": []
  },
  "kernelspec": {
   "display_name": "Python 3",
   "name": "python3"
  },
  "language_info": {
   "name": "python"
  }
 },
 "nbformat": 4,
 "nbformat_minor": 0
}
